{
  "nbformat": 4,
  "nbformat_minor": 0,
  "metadata": {
    "colab": {
      "provenance": [],
      "authorship_tag": "ABX9TyOnSpblc2jcChY4X2ebmK7P",
      "include_colab_link": true
    },
    "kernelspec": {
      "name": "python3",
      "display_name": "Python 3"
    },
    "language_info": {
      "name": "python"
    }
  },
  "cells": [
    {
      "cell_type": "markdown",
      "metadata": {
        "id": "view-in-github",
        "colab_type": "text"
      },
      "source": [
        "<a href=\"https://colab.research.google.com/github/Ment1984/zarouali-ment-khoualha/blob/main/To%20solve%20this%20nonlinear%20programming%20problem%20for%20VBY%20Mills%20Ltd.ipynb\" target=\"_parent\"><img src=\"https://colab.research.google.com/assets/colab-badge.svg\" alt=\"Open In Colab\"/></a>"
      ]
    },
    {
      "cell_type": "code",
      "execution_count": 1,
      "metadata": {
        "colab": {
          "base_uri": "https://localhost:8080/"
        },
        "id": "jay9bBRMSUzH",
        "outputId": "98982f3e-7b2f-4ae7-d7ee-9286cdc1238a"
      },
      "outputs": [
        {
          "output_type": "stream",
          "name": "stdout",
          "text": [
            "The optimal solution is x1 = 71.16935572022929, x2 = 7.661288559536759\n",
            "The maximum profit Z is -38.60887096772894\n"
          ]
        }
      ],
      "source": [
        "from scipy.optimize import minimize\n",
        "\n",
        "# Define the objective function\n",
        "def objective(vars):\n",
        "    x1, x2 = vars\n",
        "    return -(5*x1 - 0.08*x1**2 + 6*x2 - 0.60*x2**2)\n",
        "\n",
        "# Define the constraint function\n",
        "def constraint(vars):\n",
        "    x1, x2 = vars\n",
        "    return 0.4*x1 + 0.2*x2 - 30\n",
        "\n",
        "# Initial guesses for x1 and x2\n",
        "x0 = [1, 1]\n",
        "\n",
        "# Define the constraint as a dictionary\n",
        "con = {'type': 'eq', 'fun': constraint}\n",
        "\n",
        "# Perform the optimization\n",
        "solution = minimize(objective, x0, constraints=[con])\n",
        "\n",
        "# Extract the optimal values of x1 and x2\n",
        "x1_opt, x2_opt = solution.x\n",
        "\n",
        "# Calculate the maximum profit Z\n",
        "Z_max = -(objective([x1_opt, x2_opt]))\n",
        "\n",
        "print(f\"The optimal solution is x1 = {x1_opt}, x2 = {x2_opt}\")\n",
        "print(f\"The maximum profit Z is {Z_max}\")\n"
      ]
    }
  ]
}